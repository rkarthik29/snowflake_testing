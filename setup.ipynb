{
 "cells": [
  {
   "cell_type": "code",
   "execution_count": 6,
   "id": "58d16605-91d0-4cdd-ba03-01f737e77817",
   "metadata": {},
   "outputs": [
    {
     "name": "stdout",
     "output_type": "stream",
     "text": [
      "Command:  mpiexec --machinefile /home/bodo/machinefile -prepend-rank -ppn 1 sudo /opt/conda/bin/conda install -y bodo==2021.12.3 -c bodo.ai/label/dev -c conda-forge\n",
      "Output:\n",
      " [1] Collecting package metadata (current_repodata.json): ...working... [0] Collecting package metadata (current_repodata.json): ...working... [1] done\n",
      "[1] Solving environment: ...working... [0] done\n",
      "[0] Solving environment: ...working... [1] done\n",
      "[1] \n",
      "[1] ## Package Plan ##\n",
      "[1] \n",
      "[1]   environment location: /opt/conda\n",
      "[1] \n",
      "[1]   added / updated specs:\n",
      "[1]     - bodo==2021.12.3\n",
      "[1] \n",
      "[1] \n",
      "[1] The following packages will be downloaded:\n",
      "[1] \n",
      "[1]     package                    |            build\n",
      "[1]     ---------------------------|-----------------\n",
      "[1]     bodo-2021.12.3             |   py39h3fd9d12_0         6.6 MB  bodo.ai/label/dev\n",
      "[1]     ------------------------------------------------------------\n",
      "[1]                                            Total:         6.6 MB\n",
      "[1] \n",
      "[1] The following packages will be UPDATED:\n",
      "[1] \n",
      "[1]   bodo                             2021.12.2-py39h3fd9d12_0 --> 2021.12.3-py39h3fd9d12_0\n",
      "[1] \n",
      "[1] \n",
      "[1] \n",
      "[1] Downloading and Extracting Packages\n",
      "bodo-2021.12.3       | 6.6 MB    | ########## | 100% [1] \n",
      "[1] Preparing transaction: ...working... [1] done\n",
      "[1] Verifying transaction: ...working... [1] done\n",
      "[1] Executing transaction: ...working... [1] done\n",
      "[0] done\n",
      "[0] \n",
      "[0] ## Package Plan ##\n",
      "[0] \n",
      "[0]   environment location: /opt/conda\n",
      "[0] \n",
      "[0]   added / updated specs:\n",
      "[0]     - bodo==2021.12.3\n",
      "[0] \n",
      "[0] \n",
      "[0] The following packages will be downloaded:\n",
      "[0] \n",
      "[0]     package                    |            build\n",
      "[0]     ---------------------------|-----------------\n",
      "[0]     bodo-2021.12.3             |   py39h3fd9d12_0         6.6 MB  bodo.ai/label/dev\n",
      "[0]     ------------------------------------------------------------\n",
      "[0]                                            Total:         6.6 MB\n",
      "[0] \n",
      "[0] The following packages will be UPDATED:\n",
      "[0] \n",
      "[0]   bodo                             2021.12.2-py39h3fd9d12_0 --> 2021.12.3-py39h3fd9d12_0\n",
      "[0] \n",
      "[0] \n",
      "[0] \n",
      "[0] Downloading and Extracting Packages\n",
      "bodo-2021.12.3       | 6.6 MB    | ########## | 100% [0] \n",
      "[0] Preparing transaction: ...working... [0] done\n",
      "[0] Verifying transaction: ...working... [0] done\n",
      "[0] Executing transaction: ...working... [0] done\n",
      "\n",
      "returncode:  0\n"
     ]
    }
   ],
   "source": [
    "%conda_install bodo==2021.12.3 -c bodo.ai/label/dev conda-forge --verbose"
   ]
  },
  {
   "cell_type": "code",
   "execution_count": 4,
   "id": "5ad19aba-5953-42b2-acb2-2ef81978c90e",
   "metadata": {},
   "outputs": [
    {
     "name": "stdout",
     "output_type": "stream",
     "text": [
      "Successfully restarted IPyParallel cluster. Please restart the kernels on your notebooks before using IPyParallel again.\n"
     ]
    }
   ],
   "source": [
    "%restart_ipy"
   ]
  },
  {
   "cell_type": "code",
   "execution_count": null,
   "id": "b4b21d2b-67f0-40c6-b5df-7b17775417ad",
   "metadata": {},
   "outputs": [],
   "source": []
  }
 ],
 "metadata": {
  "kernelspec": {
   "display_name": "Python 3 (ipykernel)",
   "language": "python",
   "name": "python3"
  },
  "language_info": {
   "codemirror_mode": {
    "name": "ipython",
    "version": 3
   },
   "file_extension": ".py",
   "mimetype": "text/x-python",
   "name": "python",
   "nbconvert_exporter": "python",
   "pygments_lexer": "ipython3",
   "version": "3.9.5"
  }
 },
 "nbformat": 4,
 "nbformat_minor": 5
}
