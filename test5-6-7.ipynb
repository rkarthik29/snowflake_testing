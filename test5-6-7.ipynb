{
 "cells": [
  {
   "cell_type": "code",
   "execution_count": 15,
   "id": "2d377460-1ba2-44ee-96fb-9ac09254398d",
   "metadata": {},
   "outputs": [
    {
     "name": "stdout",
     "output_type": "stream",
     "text": [
      "Successfully restarted IPyParallel cluster. Please restart the kernels on your notebooks before using IPyParallel again.\n"
     ]
    }
   ],
   "source": [
    "%restart_ipy"
   ]
  },
  {
   "cell_type": "code",
   "execution_count": 1,
   "id": "286daab8-380a-40bc-8752-3e07bebc9783",
   "metadata": {},
   "outputs": [],
   "source": [
    "%%px\n",
    "\n",
    "import snowflake.connector\n",
    "#import bodo\n",
    "import time\n",
    "from sqlalchemy.dialects import registry\n",
    "registry.register('snowflake', 'snowflake.sqlalchemy', 'dialect')"
   ]
  },
  {
   "cell_type": "code",
   "execution_count": 2,
   "id": "dc8934a6-6447-4b32-9b41-43224b490b66",
   "metadata": {},
   "outputs": [],
   "source": [
    "%%px\n",
    "\n",
    "import os\n",
    "with open(\"./snowflake-secrets.txt\",\"r\") as f:\n",
    "    for line in f:\n",
    "        args=line.split(\"=\")\n",
    "        os.environ[args[0]]=args[1].strip()\n",
    "username=os.environ[\"username\"]\n",
    "password=os.environ[\"password\"]\n",
    "account=os.environ[\"account\"]\n",
    "warehouse=\"BODO_VW\"\n",
    "database=\"BODO_DB\"\n",
    "role=\"BODO_R1\""
   ]
  },
  {
   "cell_type": "code",
   "execution_count": 3,
   "id": "952b48a1-a04f-4858-89a5-a67202fba353",
   "metadata": {},
   "outputs": [
    {
     "name": "stdout",
     "output_type": "stream",
     "text": [
      "%px: 100%|██████████| 32/32 [00:26<00:00,  1.23tasks/s]\n"
     ]
    }
   ],
   "source": [
    "%%px\n",
    "\n",
    "import bodo\n",
    "import pandas as pd\n",
    "\n",
    "@bodo.jit\n",
    "def general_merge(trip_df, weather):\n",
    "    return trip_df.merge(weather, left_on='trip_date', right_on='weather_date', how='left')\n",
    "\n",
    "\n",
    "@bodo.jit()\n",
    "def tc5():\n",
    "    trips=pd.read_sql('select * from PUBLIC.TRIPS', f\"snowflake://{username}:{password}@{account}/{database}/public?role={role}&warehouse={warehouse}\",)\n",
    "    weather=pd.read_sql('select * from PUBLIC.WEATHER', f\"snowflake://{username}:{password}@{account}/{database}/public?role={role}&warehouse={warehouse}\",)\n",
    "    \n",
    "    # 1\n",
    "    #Remove trips having trip duration(TRIPDURATION) more than  3 hours (180 minutes)\n",
    "    \n",
    "    trips = trips[trips[\"tripduration\"]<181]\n",
    "    \n",
    "    \n",
    "    #2\n",
    "    #Calculate the age of the person by taking the difference between birth year(BIRTH_YEAR) \n",
    "    #and year of the trip( extract year from the STARTTIME)\n",
    "    \n",
    "    trips[\"age\"] = pd.DatetimeIndex(trips[\"starttime\"]).year - trips[\"birth_year\"]\n",
    "    \n",
    "    \n",
    "    #3\n",
    "    #Remove records where age is more than 90 and make sure that we do not eliminate \n",
    "    #the records where the birth year(BIRTH_YEAR) is missing.\n",
    "    \n",
    "    trips = trips.loc[(trips[\"age\"]<90) | (trips[\"birth_year\"].isnull() == True)]\n",
    "    \n",
    "    \n",
    "    #4\n",
    "    #Replace the missing birth year(BIRTH_YEAR) with the median value of birth year.\n",
    "    \n",
    "    trips[\"birth_year\"].fillna(int(trips[\"birth_year\"].median()), inplace=True)\n",
    "    \n",
    "    #5\n",
    "    #Aggregate the data at day level by using the USER_TYPE as the group by variable.\n",
    "    #Create the following features at the aggregated level:\n",
    "    #-count of number of trips on that day(no_of_trips_day)\n",
    "    \n",
    "    trips[\"trip_date\"] = trips[\"starttime\"].dt.date\n",
    "    trip_df = trips.groupby([\"trip_date\", \"usertype\"], as_index = False).size().rename(columns = {'size': 'no_of_trips_day'}, inplace = True)\n",
    "    \n",
    "    \n",
    "    #6\n",
    "    #Left join the Trips and WEATHER data using key TRIP_DATE= WEATHER_DATE\n",
    "    \n",
    "    df = general_merge(trip_df, weather)\n",
    "    \n",
    "    \n",
    "    #7\n",
    "    #Select records which fall on or before 31st Dec 2017 (TRIP_DATE) as \n",
    "    #training data (Create a table Trips_Training).\n",
    "    \n",
    "    trips_training = df[df[\"trip_date\"] < pd.Timestamp(2018,1,1)]\n",
    "    \n",
    "    \n",
    "    #8\n",
    "    #Select records which fall after 31st Dec 2017(TRIP_DATE) as testing data \n",
    "    #(Create a table Trips_Testing)\n",
    "    \n",
    "    trips_testing = df[df[\"trip_date\"] >= pd.Timestamp(2018,1,1)]\n",
    "    \n",
    "    \n",
    "    \n",
    "    return trips_training, trips_testing\n",
    "trips_training, trips_testing=tc5()"
   ]
  },
  {
   "cell_type": "code",
   "execution_count": 4,
   "id": "bb0b7e5b-102b-4408-9559-4015febb5c6b",
   "metadata": {},
   "outputs": [
    {
     "name": "stdout",
     "output_type": "stream",
     "text": [
      "%px:   0%|          | 0/32 [00:04<?, ?tasks/s]"
     ]
    },
    {
     "data": {
      "text/plain": [
       "[stdout:19] r2 score on learn dataset: 0.09086532620908516\n"
      ]
     },
     "metadata": {},
     "output_type": "display_data"
    },
    {
     "data": {
      "text/plain": [
       "[stdout:15] r2 score on learn dataset: 0.1065490614855168\n"
      ]
     },
     "metadata": {},
     "output_type": "display_data"
    },
    {
     "data": {
      "text/plain": [
       "[stdout:11] r2 score on learn dataset: 0.08793640700233352\n"
      ]
     },
     "metadata": {},
     "output_type": "display_data"
    },
    {
     "data": {
      "text/plain": [
       "[stdout:7] r2 score on learn dataset: 0.08771192220891988\n"
      ]
     },
     "metadata": {},
     "output_type": "display_data"
    },
    {
     "data": {
      "text/plain": [
       "[stdout:26] r2 score on learn dataset: 0.09164625957852779\n"
      ]
     },
     "metadata": {},
     "output_type": "display_data"
    },
    {
     "data": {
      "text/plain": [
       "[stdout:2] r2 score on learn dataset: 0.0882659169736264\n"
      ]
     },
     "metadata": {},
     "output_type": "display_data"
    },
    {
     "data": {
      "text/plain": [
       "[stdout:22] r2 score on learn dataset: 0.10182589098522465\n"
      ]
     },
     "metadata": {},
     "output_type": "display_data"
    },
    {
     "data": {
      "text/plain": [
       "[stdout:31] r2 score on learn dataset: 0.11800751788030517\n"
      ]
     },
     "metadata": {},
     "output_type": "display_data"
    },
    {
     "data": {
      "text/plain": [
       "[stdout:23] r2 score on learn dataset: 0.0596102301075383\n"
      ]
     },
     "metadata": {},
     "output_type": "display_data"
    },
    {
     "data": {
      "text/plain": [
       "[stdout:18] r2 score on learn dataset: 0.07589767820243554\n"
      ]
     },
     "metadata": {},
     "output_type": "display_data"
    },
    {
     "data": {
      "text/plain": [
       "[stdout:30] r2 score on learn dataset: 0.05900687033403951\n"
      ]
     },
     "metadata": {},
     "output_type": "display_data"
    },
    {
     "data": {
      "text/plain": [
       "[stdout:9] r2 score on learn dataset: 0.08145908174957117\n"
      ]
     },
     "metadata": {},
     "output_type": "display_data"
    },
    {
     "data": {
      "text/plain": [
       "[stdout:17] r2 score on learn dataset: 0.085643896471573\n"
      ]
     },
     "metadata": {},
     "output_type": "display_data"
    },
    {
     "name": "stdout",
     "output_type": "stream",
     "text": [
      "%px:  41%|████      | 13/32 [00:04<00:00, 128.41tasks/s]"
     ]
    },
    {
     "data": {
      "text/plain": [
       "[stdout:25] r2 score on learn dataset: 0.04888219507193414\n"
      ]
     },
     "metadata": {},
     "output_type": "display_data"
    },
    {
     "data": {
      "text/plain": [
       "[stdout:21] r2 score on learn dataset: 0.08582880592053599\n"
      ]
     },
     "metadata": {},
     "output_type": "display_data"
    },
    {
     "data": {
      "text/plain": [
       "[stdout:13] r2 score on learn dataset: 0.07777300448053337\n"
      ]
     },
     "metadata": {},
     "output_type": "display_data"
    },
    {
     "data": {
      "text/plain": [
       "[stdout:10] r2 score on learn dataset: 0.08360811969877202\n"
      ]
     },
     "metadata": {},
     "output_type": "display_data"
    },
    {
     "data": {
      "text/plain": [
       "[stdout:6] r2 score on learn dataset: 0.03262601901859152\n"
      ]
     },
     "metadata": {},
     "output_type": "display_data"
    },
    {
     "data": {
      "text/plain": [
       "[stdout:29] r2 score on learn dataset: 0.017570332314969517\n"
      ]
     },
     "metadata": {},
     "output_type": "display_data"
    },
    {
     "data": {
      "text/plain": [
       "[stdout:14] r2 score on learn dataset: 0.11254834741145092\n"
      ]
     },
     "metadata": {},
     "output_type": "display_data"
    },
    {
     "data": {
      "text/plain": [
       "[stdout:5] r2 score on learn dataset: 0.12169756632813755\n"
      ]
     },
     "metadata": {},
     "output_type": "display_data"
    },
    {
     "data": {
      "text/plain": [
       "[stdout:3] r2 score on learn dataset: 0.09512015494561643\n"
      ]
     },
     "metadata": {},
     "output_type": "display_data"
    },
    {
     "data": {
      "text/plain": [
       "[stdout:1] r2 score on learn dataset: 0.03411455352546133\n"
      ]
     },
     "metadata": {},
     "output_type": "display_data"
    },
    {
     "data": {
      "text/plain": [
       "[stdout:27] r2 score on learn dataset: 0.08043881473741099\n"
      ]
     },
     "metadata": {},
     "output_type": "display_data"
    },
    {
     "name": "stdout",
     "output_type": "stream",
     "text": [
      "%px:  75%|███████▌  | 24/32 [00:04<00:00, 117.05tasks/s]"
     ]
    },
    {
     "data": {
      "text/plain": [
       "[stdout:16] r2 score on learn dataset: 0.15007705080938682\n"
      ]
     },
     "metadata": {},
     "output_type": "display_data"
    },
    {
     "data": {
      "text/plain": [
       "[stdout:24] r2 score on learn dataset: 0.12149882862598249\n"
      ]
     },
     "metadata": {},
     "output_type": "display_data"
    },
    {
     "data": {
      "text/plain": [
       "[stdout:4] r2 score on learn dataset: 0.07031518775441237\n"
      ]
     },
     "metadata": {},
     "output_type": "display_data"
    },
    {
     "data": {
      "text/plain": [
       "[stdout:20] r2 score on learn dataset: 0.05731666309930472\n"
      ]
     },
     "metadata": {},
     "output_type": "display_data"
    },
    {
     "data": {
      "text/plain": [
       "[stdout:12] r2 score on learn dataset: 0.06383694168125509\n"
      ]
     },
     "metadata": {},
     "output_type": "display_data"
    },
    {
     "data": {
      "text/plain": [
       "[stdout:28] r2 score on learn dataset: 0.12791855949901632\n"
      ]
     },
     "metadata": {},
     "output_type": "display_data"
    },
    {
     "data": {
      "text/plain": [
       "[stdout:8] r2 score on learn dataset: 0.08473101995452736\n"
      ]
     },
     "metadata": {},
     "output_type": "display_data"
    },
    {
     "name": "stdout",
     "output_type": "stream",
     "text": [
      "%px:  97%|█████████▋| 31/32 [00:05<00:00, 65.62tasks/s] "
     ]
    },
    {
     "data": {
      "text/plain": [
       "[stdout:0] r2 score on learn dataset: 0.058593193678348254\n"
      ]
     },
     "metadata": {},
     "output_type": "display_data"
    },
    {
     "name": "stdout",
     "output_type": "stream",
     "text": [
      "%px: 100%|██████████| 32/32 [00:05<00:00,  6.06tasks/s]\n"
     ]
    }
   ],
   "source": [
    "%%px\n",
    "\n",
    "from sklearn.linear_model import LinearRegression\n",
    "from sklearn.preprocessing import MinMaxScaler\n",
    "import pickle\n",
    "import joblib\n",
    "import numpy as np\n",
    "\n",
    "trips_training = bodo.rebalance(trips_training, parallel=True)\n",
    "\n",
    "@bodo.jit()\n",
    "def tc6(trips_training):\n",
    "    \n",
    "    #1\n",
    "    #Build linear regression model OR any other suitable model on the Training dataset(Trips_Training)\n",
    "    #Target : count of number of trips on that day(no_of_trips_day)\n",
    "    #Input/Independent variables : AWND,PRCP,SNOW,SNWD,TMAX,TMIN,WDF2,WDF5,WSF2,WSF5\n",
    "    \n",
    "    trips_training = trips_training.dropna(how='any')\n",
    "    \n",
    "    X_train = trips_training[['awnd','prcp','snow','snwd','tmax','tmin','wdf2','wdf5','wsf2','wsf5']]\n",
    "    y_train = trips_training['no_of_trips_day']\n",
    "    \n",
    "    with bodo.objmode():\n",
    "        \n",
    "        #scaling\n",
    "        scaler = MinMaxScaler()\n",
    "        X_train_normalized = scaler.fit_transform(X_train)\n",
    "        \n",
    "        #training\n",
    "        reg = LinearRegression()\n",
    "        model = reg.fit(X_train_normalized, y_train)\n",
    "    \n",
    "        #2\n",
    "        #Save the model object , parameter estimate and R-square statistics on the training data. \n",
    "        \n",
    "        #saving the model with pickle\n",
    "        filename = 'model.pkl'\n",
    "        pickle.dump(model, open(filename, 'wb'))\n",
    "        \n",
    "        #saving the model with joblib (recommended for Sklrean models)\n",
    "        filename = 'model.joblib'\n",
    "        joblib.dump(model, open(filename, 'wb'))\n",
    "        \n",
    "        print(f'r2 score on learn dataset: {reg.score(X_train_normalized, y_train)}')\n",
    "        \n",
    "\n",
    "\n",
    "tc6(trips_training)"
   ]
  },
  {
   "cell_type": "code",
   "execution_count": 5,
   "id": "28083f62-e7e1-4052-969d-fe26d532122d",
   "metadata": {},
   "outputs": [
    {
     "name": "stdout",
     "output_type": "stream",
     "text": [
      "%px:   0%|          | 0/32 [00:07<?, ?tasks/s]"
     ]
    },
    {
     "data": {
      "text/plain": [
       "[stdout:18] MSE:  2303523.2843269254\n",
       "RMSE:  1517.736236744358\n",
       "MAE:  1303.5153878739222\n"
      ]
     },
     "metadata": {},
     "output_type": "display_data"
    },
    {
     "data": {
      "text/plain": [
       "[stdout:22] MSE:  1964237.0228452706\n",
       "RMSE:  1401.512405526712\n",
       "MAE:  1277.0663650360148\n"
      ]
     },
     "metadata": {},
     "output_type": "display_data"
    },
    {
     "data": {
      "text/plain": [
       "[stdout:28] MSE:  1284077.9422793873\n",
       "RMSE:  1133.1716296657746\n",
       "MAE:  996.5316493541835\n"
      ]
     },
     "metadata": {},
     "output_type": "display_data"
    },
    {
     "data": {
      "text/plain": [
       "[stdout:24] MSE:  2664045.781627454\n",
       "RMSE:  1632.1904857054687\n",
       "MAE:  1391.4683817900816\n"
      ]
     },
     "metadata": {},
     "output_type": "display_data"
    },
    {
     "data": {
      "text/plain": [
       "[stdout:31] MSE:  1329621.8969323419\n",
       "RMSE:  1153.0923193449612\n",
       "MAE:  954.090709042393\n"
      ]
     },
     "metadata": {},
     "output_type": "display_data"
    },
    {
     "data": {
      "text/plain": [
       "[stdout:19] MSE:  2348901.4052643483\n",
       "RMSE:  1532.6126076945695\n",
       "MAE:  1189.589612705093\n"
      ]
     },
     "metadata": {},
     "output_type": "display_data"
    },
    {
     "data": {
      "text/plain": [
       "[stdout:29] MSE:  3684656.552356999\n",
       "RMSE:  1919.5459234821653\n",
       "MAE:  1742.8738714816436\n"
      ]
     },
     "metadata": {},
     "output_type": "display_data"
    },
    {
     "data": {
      "text/plain": [
       "[stdout:25] MSE:  2594793.9245708254\n",
       "RMSE:  1610.8364052785823\n",
       "MAE:  1390.894456021349\n"
      ]
     },
     "metadata": {},
     "output_type": "display_data"
    },
    {
     "data": {
      "text/plain": [
       "[stdout:5] MSE:  1409287.8515552233\n",
       "RMSE:  1187.1343022401566\n",
       "MAE:  993.871568490356\n"
      ]
     },
     "metadata": {},
     "output_type": "display_data"
    },
    {
     "data": {
      "text/plain": [
       "[stdout:0] MSE:  1265421.362792574\n",
       "RMSE:  1124.9094909336368\n",
       "MAE:  972.2888247129694\n"
      ]
     },
     "metadata": {},
     "output_type": "display_data"
    },
    {
     "data": {
      "text/plain": [
       "[stdout:23] MSE:  2061738.3072126145\n",
       "RMSE:  1435.8754497562156\n",
       "MAE:  1231.740686772589\n"
      ]
     },
     "metadata": {},
     "output_type": "display_data"
    },
    {
     "data": {
      "text/plain": [
       "[stdout:14] MSE:  3329853.270802231\n",
       "RMSE:  1824.78855509405\n",
       "MAE:  1661.1187004693902\n"
      ]
     },
     "metadata": {},
     "output_type": "display_data"
    },
    {
     "data": {
      "text/plain": [
       "[stdout:7] MSE:  1656880.0857615976\n",
       "RMSE:  1287.1985417027156\n",
       "MAE:  1131.4177479650946\n"
      ]
     },
     "metadata": {},
     "output_type": "display_data"
    },
    {
     "data": {
      "text/plain": [
       "[stdout:30] MSE:  2057227.2329031753\n",
       "RMSE:  1434.3037449937776\n",
       "MAE:  1211.3531698313784\n"
      ]
     },
     "metadata": {},
     "output_type": "display_data"
    },
    {
     "data": {
      "text/plain": [
       "[stdout:21] MSE:  2497550.488265617\n",
       "RMSE:  1580.364036627516\n",
       "MAE:  1323.0718387991633\n"
      ]
     },
     "metadata": {},
     "output_type": "display_data"
    },
    {
     "data": {
      "text/plain": [
       "[stdout:12] MSE:  3100499.3100216286\n",
       "RMSE:  1760.823474974601\n",
       "MAE:  1393.6276114735576\n"
      ]
     },
     "metadata": {},
     "output_type": "display_data"
    },
    {
     "data": {
      "text/plain": [
       "[stdout:26] MSE:  3249536.1288073272\n",
       "RMSE:  1802.6469784201583\n",
       "MAE:  1391.7830724902449\n"
      ]
     },
     "metadata": {},
     "output_type": "display_data"
    },
    {
     "data": {
      "text/plain": [
       "[stdout:16] MSE:  1887475.1222440826\n",
       "RMSE:  1373.8541124311862\n",
       "MAE:  1051.870314894426\n"
      ]
     },
     "metadata": {},
     "output_type": "display_data"
    },
    {
     "data": {
      "text/plain": [
       "[stdout:15] MSE:  1385827.787876214\n",
       "RMSE:  1177.21187042784\n",
       "MAE:  957.0925500514226\n"
      ]
     },
     "metadata": {},
     "output_type": "display_data"
    },
    {
     "data": {
      "text/plain": [
       "[stdout:8] MSE:  2294980.440142595\n",
       "RMSE:  1514.9192850256397\n",
       "MAE:  1313.113849831983\n"
      ]
     },
     "metadata": {},
     "output_type": "display_data"
    },
    {
     "data": {
      "text/plain": [
       "[stdout:6] MSE:  1893131.5134638557\n",
       "RMSE:  1375.911157547556\n",
       "MAE:  1062.441383009875\n"
      ]
     },
     "metadata": {},
     "output_type": "display_data"
    },
    {
     "data": {
      "text/plain": [
       "[stdout:17] MSE:  2186392.0092410813\n",
       "RMSE:  1478.6453290904758\n",
       "MAE:  1250.75756025117\n"
      ]
     },
     "metadata": {},
     "output_type": "display_data"
    },
    {
     "data": {
      "text/plain": [
       "[stdout:1] MSE:  1089975.513393703\n",
       "RMSE:  1044.0189238676198\n",
       "MAE:  856.680536750324\n"
      ]
     },
     "metadata": {},
     "output_type": "display_data"
    },
    {
     "data": {
      "text/plain": [
       "[stdout:11] MSE:  1129263.8304134626\n",
       "RMSE:  1062.668259812752\n",
       "MAE:  1001.5543746620503\n"
      ]
     },
     "metadata": {},
     "output_type": "display_data"
    },
    {
     "data": {
      "text/plain": [
       "[stdout:27] MSE:  1574064.8008828273\n",
       "RMSE:  1254.6173922287333\n",
       "MAE:  1053.9240079031322\n"
      ]
     },
     "metadata": {},
     "output_type": "display_data"
    },
    {
     "data": {
      "text/plain": [
       "[stdout:20] MSE:  1729310.858441473\n",
       "RMSE:  1315.0326453900195\n",
       "MAE:  918.0336243821606\n"
      ]
     },
     "metadata": {},
     "output_type": "display_data"
    },
    {
     "data": {
      "text/plain": [
       "[stdout:4] MSE:  2332492.718368402\n",
       "RMSE:  1527.2500510291045\n",
       "MAE:  1248.6018088722742\n"
      ]
     },
     "metadata": {},
     "output_type": "display_data"
    },
    {
     "data": {
      "text/plain": [
       "[stdout:9] MSE:  1412127.9481044242\n",
       "RMSE:  1188.3298986831999\n",
       "MAE:  931.4999106848704\n"
      ]
     },
     "metadata": {},
     "output_type": "display_data"
    },
    {
     "data": {
      "text/plain": [
       "[stdout:10] MSE:  1692036.4303795656\n",
       "RMSE:  1300.7830066462145\n",
       "MAE:  1147.5398569560887\n"
      ]
     },
     "metadata": {},
     "output_type": "display_data"
    },
    {
     "data": {
      "text/plain": [
       "[stdout:13] MSE:  2451447.927025966\n",
       "RMSE:  1565.7100392556617\n",
       "MAE:  1365.3795413634086\n"
      ]
     },
     "metadata": {},
     "output_type": "display_data"
    },
    {
     "data": {
      "text/plain": [
       "[stdout:2] MSE:  1770589.8851535553\n",
       "RMSE:  1330.6351435136362\n",
       "MAE:  1109.0505383264813\n"
      ]
     },
     "metadata": {},
     "output_type": "display_data"
    },
    {
     "data": {
      "text/plain": [
       "[stdout:3] MSE:  2312826.083920431\n",
       "RMSE:  1520.7978445278093\n",
       "MAE:  1321.011829930355\n"
      ]
     },
     "metadata": {},
     "output_type": "display_data"
    },
    {
     "name": "stdout",
     "output_type": "stream",
     "text": [
      "%px: 100%|██████████| 32/32 [00:07<00:00,  4.47tasks/s]\n"
     ]
    }
   ],
   "source": [
    "%%px\n",
    "\n",
    "from sklearn.metrics import mean_squared_error\n",
    "from sklearn.metrics import mean_absolute_error\n",
    "import math\n",
    "\n",
    "trips_testing = bodo.rebalance(trips_testing, parallel=True)\n",
    "\n",
    "tc7_output_type = bodo.typeof(pd.DataFrame({\"yhat\": [0.0]}))\n",
    "\n",
    "@bodo.jit()\n",
    "def tc7_a(trips_testing, trips_training):\n",
    "    \n",
    "    #1\n",
    "    #Build linear regression model OR any other suitable model on the Training dataset(Trips_Training)\n",
    "    #Target : count of number of trips on that day(no_of_trips_day)\n",
    "    #Input/Independent variables : AWND,PRCP,SNOW,SNWD,TMAX,TMIN,WDF2,WDF5,WSF2,WSF5\n",
    "    \n",
    "    trips_testing = trips_testing.dropna(how='any')\n",
    "    trips_training = trips_training.dropna(how='any')\n",
    "    \n",
    "    X_train = trips_training[['awnd','prcp','snow','snwd','tmax','tmin','wdf2','wdf5','wsf2','wsf5']]\n",
    "    y_train = trips_training['no_of_trips_day']\n",
    "    \n",
    "    X_test = trips_testing[['awnd','prcp','snow','snwd','tmax','tmin','wdf2','wdf5','wsf2','wsf5']]\n",
    "    y_test = trips_testing['no_of_trips_day']\n",
    "    \n",
    "    #2-a\n",
    "    #Use the test data(Trips_Testing) , score the data using the model object and store \n",
    "    #the prediction in the test data. \n",
    "    \n",
    "    with bodo.objmode(y_preds_data = tc7_output_type):\n",
    "        reg = LinearRegression()\n",
    "        model = reg.fit(X_train, y_train)\n",
    "        y_preds_numpy = model.predict(X_test)\n",
    "        \n",
    "        print(\"MSE: \", mean_squared_error(y_test, y_preds_numpy))\n",
    "        print(\"RMSE: \", math.sqrt(mean_squared_error(y_test, y_preds_numpy)))\n",
    "        print(\"MAE: \", mean_absolute_error(y_test, y_preds_numpy))\n",
    "        \n",
    "        y_preds_data = pd.DataFrame(y_preds_numpy, columns = [\"yhat\"])\n",
    "        \n",
    "    return y_preds_data\n",
    "    \n",
    "    \n",
    "@bodo.jit()\n",
    "def tc7_b(trips_testing, trips_training):\n",
    "    \n",
    "    #2-b\n",
    "    # Store the prediction in the test data. Save the Test data.\n",
    "    \n",
    "    y_preds = tc7_a(trips_testing, trips_training)\n",
    "    \n",
    "    trips_testing_total = pd.concat([trips_testing, y_preds], axis=1)\n",
    "    \n",
    "    trips_testing_total.to_parquet(\"Test_data.pq\")\n",
    "    return trips_testing_total\n",
    "    \n",
    "trips_testing_total=tc7_b(trips_testing, trips_training)\n"
   ]
  },
  {
   "cell_type": "code",
   "execution_count": 6,
   "id": "145eb77b-0625-454f-ada0-2dd681b7b6d4",
   "metadata": {},
   "outputs": [
    {
     "name": "stdout",
     "output_type": "stream",
     "text": [
      "%px:   0%|          | 0/32 [00:02<?, ?tasks/s]"
     ]
    },
    {
     "data": {
      "text/plain": [
       "[stderr:0] /opt/conda/lib/python3.9/site-packages/snowflake/sqlalchemy/snowdialect.py:206: SAWarning: Dialect snowflake:snowflake will not make use of SQL compilation caching as it does not set the 'supports_statement_cache' attribute to ``True``.  This can have significant performance implications including some performance degradations in comparison to prior SQLAlchemy versions.  Dialect maintainers should seek to set this attribute to True after appropriate development and testing for SQLAlchemy 1.4 caching support.   Alternatively, this attribute may be set to False which will disable this warning. (Background on this error at: https://sqlalche.me/e/14/cprf)\n",
       "  results = connection.execute(\n"
      ]
     },
     "metadata": {},
     "output_type": "display_data"
    },
    {
     "name": "stdout",
     "output_type": "stream",
     "text": [
      "%px:   0%|          | 0/32 [00:05<?, ?tasks/s]"
     ]
    },
    {
     "data": {
      "text/plain": [
       "[stderr:1] /opt/conda/lib/python3.9/site-packages/snowflake/sqlalchemy/snowdialect.py:206: SAWarning: Dialect snowflake:snowflake will not make use of SQL compilation caching as it does not set the 'supports_statement_cache' attribute to ``True``.  This can have significant performance implications including some performance degradations in comparison to prior SQLAlchemy versions.  Dialect maintainers should seek to set this attribute to True after appropriate development and testing for SQLAlchemy 1.4 caching support.   Alternatively, this attribute may be set to False which will disable this warning. (Background on this error at: https://sqlalche.me/e/14/cprf)\n",
       "  results = connection.execute(\n",
       "/opt/conda/lib/python3.9/site-packages/snowflake/sqlalchemy/snowdialect.py:206: SAWarning: Dialect snowflake:snowflake will not make use of SQL compilation caching as it does not set the 'supports_statement_cache' attribute to ``True``.  This can have significant performance implications including some performance degradations in comparison to prior SQLAlchemy versions.  Dialect maintainers should seek to set this attribute to True after appropriate development and testing for SQLAlchemy 1.4 caching support.   Alternatively, this attribute may be set to False which will disable this warning. (Background on this error at: https://sqlalche.me/e/14/cprf)\n",
       "  results = connection.execute(\n"
      ]
     },
     "metadata": {},
     "output_type": "display_data"
    },
    {
     "data": {
      "text/plain": [
       "[stderr:30] /opt/conda/lib/python3.9/site-packages/snowflake/sqlalchemy/snowdialect.py:206: SAWarning: Dialect snowflake:snowflake will not make use of SQL compilation caching as it does not set the 'supports_statement_cache' attribute to ``True``.  This can have significant performance implications including some performance degradations in comparison to prior SQLAlchemy versions.  Dialect maintainers should seek to set this attribute to True after appropriate development and testing for SQLAlchemy 1.4 caching support.   Alternatively, this attribute may be set to False which will disable this warning. (Background on this error at: https://sqlalche.me/e/14/cprf)\n",
       "  results = connection.execute(\n",
       "/opt/conda/lib/python3.9/site-packages/snowflake/sqlalchemy/snowdialect.py:206: SAWarning: Dialect snowflake:snowflake will not make use of SQL compilation caching as it does not set the 'supports_statement_cache' attribute to ``True``.  This can have significant performance implications including some performance degradations in comparison to prior SQLAlchemy versions.  Dialect maintainers should seek to set this attribute to True after appropriate development and testing for SQLAlchemy 1.4 caching support.   Alternatively, this attribute may be set to False which will disable this warning. (Background on this error at: https://sqlalche.me/e/14/cprf)\n",
       "  results = connection.execute(\n"
      ]
     },
     "metadata": {},
     "output_type": "display_data"
    },
    {
     "name": "stdout",
     "output_type": "stream",
     "text": [
      "%px:   0%|          | 0/32 [00:05<?, ?tasks/s]"
     ]
    },
    {
     "data": {
      "text/plain": [
       "[stderr:25] /opt/conda/lib/python3.9/site-packages/snowflake/sqlalchemy/snowdialect.py:206: SAWarning: Dialect snowflake:snowflake will not make use of SQL compilation caching as it does not set the 'supports_statement_cache' attribute to ``True``.  This can have significant performance implications including some performance degradations in comparison to prior SQLAlchemy versions.  Dialect maintainers should seek to set this attribute to True after appropriate development and testing for SQLAlchemy 1.4 caching support.   Alternatively, this attribute may be set to False which will disable this warning. (Background on this error at: https://sqlalche.me/e/14/cprf)\n",
       "  results = connection.execute(\n",
       "/opt/conda/lib/python3.9/site-packages/snowflake/sqlalchemy/snowdialect.py:206: SAWarning: Dialect snowflake:snowflake will not make use of SQL compilation caching as it does not set the 'supports_statement_cache' attribute to ``True``.  This can have significant performance implications including some performance degradations in comparison to prior SQLAlchemy versions.  Dialect maintainers should seek to set this attribute to True after appropriate development and testing for SQLAlchemy 1.4 caching support.   Alternatively, this attribute may be set to False which will disable this warning. (Background on this error at: https://sqlalche.me/e/14/cprf)\n",
       "  results = connection.execute(\n"
      ]
     },
     "metadata": {},
     "output_type": "display_data"
    },
    {
     "name": "stdout",
     "output_type": "stream",
     "text": [
      "%px:   0%|          | 0/32 [00:06<?, ?tasks/s]"
     ]
    },
    {
     "data": {
      "text/plain": [
       "[stderr:13] /opt/conda/lib/python3.9/site-packages/snowflake/sqlalchemy/snowdialect.py:206: SAWarning: Dialect snowflake:snowflake will not make use of SQL compilation caching as it does not set the 'supports_statement_cache' attribute to ``True``.  This can have significant performance implications including some performance degradations in comparison to prior SQLAlchemy versions.  Dialect maintainers should seek to set this attribute to True after appropriate development and testing for SQLAlchemy 1.4 caching support.   Alternatively, this attribute may be set to False which will disable this warning. (Background on this error at: https://sqlalche.me/e/14/cprf)\n",
       "  results = connection.execute(\n",
       "/opt/conda/lib/python3.9/site-packages/snowflake/sqlalchemy/snowdialect.py:206: SAWarning: Dialect snowflake:snowflake will not make use of SQL compilation caching as it does not set the 'supports_statement_cache' attribute to ``True``.  This can have significant performance implications including some performance degradations in comparison to prior SQLAlchemy versions.  Dialect maintainers should seek to set this attribute to True after appropriate development and testing for SQLAlchemy 1.4 caching support.   Alternatively, this attribute may be set to False which will disable this warning. (Background on this error at: https://sqlalche.me/e/14/cprf)\n",
       "  results = connection.execute(\n"
      ]
     },
     "metadata": {},
     "output_type": "display_data"
    },
    {
     "data": {
      "text/plain": [
       "[stderr:11] /opt/conda/lib/python3.9/site-packages/snowflake/sqlalchemy/snowdialect.py:206: SAWarning: Dialect snowflake:snowflake will not make use of SQL compilation caching as it does not set the 'supports_statement_cache' attribute to ``True``.  This can have significant performance implications including some performance degradations in comparison to prior SQLAlchemy versions.  Dialect maintainers should seek to set this attribute to True after appropriate development and testing for SQLAlchemy 1.4 caching support.   Alternatively, this attribute may be set to False which will disable this warning. (Background on this error at: https://sqlalche.me/e/14/cprf)\n",
       "  results = connection.execute(\n",
       "/opt/conda/lib/python3.9/site-packages/snowflake/sqlalchemy/snowdialect.py:206: SAWarning: Dialect snowflake:snowflake will not make use of SQL compilation caching as it does not set the 'supports_statement_cache' attribute to ``True``.  This can have significant performance implications including some performance degradations in comparison to prior SQLAlchemy versions.  Dialect maintainers should seek to set this attribute to True after appropriate development and testing for SQLAlchemy 1.4 caching support.   Alternatively, this attribute may be set to False which will disable this warning. (Background on this error at: https://sqlalche.me/e/14/cprf)\n",
       "  results = connection.execute(\n"
      ]
     },
     "metadata": {},
     "output_type": "display_data"
    },
    {
     "data": {
      "text/plain": [
       "[stderr:6] /opt/conda/lib/python3.9/site-packages/snowflake/sqlalchemy/snowdialect.py:206: SAWarning: Dialect snowflake:snowflake will not make use of SQL compilation caching as it does not set the 'supports_statement_cache' attribute to ``True``.  This can have significant performance implications including some performance degradations in comparison to prior SQLAlchemy versions.  Dialect maintainers should seek to set this attribute to True after appropriate development and testing for SQLAlchemy 1.4 caching support.   Alternatively, this attribute may be set to False which will disable this warning. (Background on this error at: https://sqlalche.me/e/14/cprf)\n",
       "  results = connection.execute(\n",
       "/opt/conda/lib/python3.9/site-packages/snowflake/sqlalchemy/snowdialect.py:206: SAWarning: Dialect snowflake:snowflake will not make use of SQL compilation caching as it does not set the 'supports_statement_cache' attribute to ``True``.  This can have significant performance implications including some performance degradations in comparison to prior SQLAlchemy versions.  Dialect maintainers should seek to set this attribute to True after appropriate development and testing for SQLAlchemy 1.4 caching support.   Alternatively, this attribute may be set to False which will disable this warning. (Background on this error at: https://sqlalche.me/e/14/cprf)\n",
       "  results = connection.execute(\n"
      ]
     },
     "metadata": {},
     "output_type": "display_data"
    },
    {
     "data": {
      "text/plain": [
       "[stderr:10] /opt/conda/lib/python3.9/site-packages/snowflake/sqlalchemy/snowdialect.py:206: SAWarning: Dialect snowflake:snowflake will not make use of SQL compilation caching as it does not set the 'supports_statement_cache' attribute to ``True``.  This can have significant performance implications including some performance degradations in comparison to prior SQLAlchemy versions.  Dialect maintainers should seek to set this attribute to True after appropriate development and testing for SQLAlchemy 1.4 caching support.   Alternatively, this attribute may be set to False which will disable this warning. (Background on this error at: https://sqlalche.me/e/14/cprf)\n",
       "  results = connection.execute(\n",
       "/opt/conda/lib/python3.9/site-packages/snowflake/sqlalchemy/snowdialect.py:206: SAWarning: Dialect snowflake:snowflake will not make use of SQL compilation caching as it does not set the 'supports_statement_cache' attribute to ``True``.  This can have significant performance implications including some performance degradations in comparison to prior SQLAlchemy versions.  Dialect maintainers should seek to set this attribute to True after appropriate development and testing for SQLAlchemy 1.4 caching support.   Alternatively, this attribute may be set to False which will disable this warning. (Background on this error at: https://sqlalche.me/e/14/cprf)\n",
       "  results = connection.execute(\n"
      ]
     },
     "metadata": {},
     "output_type": "display_data"
    },
    {
     "data": {
      "text/plain": [
       "[stderr:22] /opt/conda/lib/python3.9/site-packages/snowflake/sqlalchemy/snowdialect.py:206: SAWarning: Dialect snowflake:snowflake will not make use of SQL compilation caching as it does not set the 'supports_statement_cache' attribute to ``True``.  This can have significant performance implications including some performance degradations in comparison to prior SQLAlchemy versions.  Dialect maintainers should seek to set this attribute to True after appropriate development and testing for SQLAlchemy 1.4 caching support.   Alternatively, this attribute may be set to False which will disable this warning. (Background on this error at: https://sqlalche.me/e/14/cprf)\n",
       "  results = connection.execute(\n"
      ]
     },
     "metadata": {},
     "output_type": "display_data"
    },
    {
     "data": {
      "text/plain": [
       "[stderr:20] /opt/conda/lib/python3.9/site-packages/snowflake/sqlalchemy/snowdialect.py:206: SAWarning: Dialect snowflake:snowflake will not make use of SQL compilation caching as it does not set the 'supports_statement_cache' attribute to ``True``.  This can have significant performance implications including some performance degradations in comparison to prior SQLAlchemy versions.  Dialect maintainers should seek to set this attribute to True after appropriate development and testing for SQLAlchemy 1.4 caching support.   Alternatively, this attribute may be set to False which will disable this warning. (Background on this error at: https://sqlalche.me/e/14/cprf)\n",
       "  results = connection.execute(\n",
       "/opt/conda/lib/python3.9/site-packages/snowflake/sqlalchemy/snowdialect.py:206: SAWarning: Dialect snowflake:snowflake will not make use of SQL compilation caching as it does not set the 'supports_statement_cache' attribute to ``True``.  This can have significant performance implications including some performance degradations in comparison to prior SQLAlchemy versions.  Dialect maintainers should seek to set this attribute to True after appropriate development and testing for SQLAlchemy 1.4 caching support.   Alternatively, this attribute may be set to False which will disable this warning. (Background on this error at: https://sqlalche.me/e/14/cprf)\n",
       "  results = connection.execute(\n"
      ]
     },
     "metadata": {},
     "output_type": "display_data"
    },
    {
     "data": {
      "text/plain": [
       "[stderr:23] /opt/conda/lib/python3.9/site-packages/snowflake/sqlalchemy/snowdialect.py:206: SAWarning: Dialect snowflake:snowflake will not make use of SQL compilation caching as it does not set the 'supports_statement_cache' attribute to ``True``.  This can have significant performance implications including some performance degradations in comparison to prior SQLAlchemy versions.  Dialect maintainers should seek to set this attribute to True after appropriate development and testing for SQLAlchemy 1.4 caching support.   Alternatively, this attribute may be set to False which will disable this warning. (Background on this error at: https://sqlalche.me/e/14/cprf)\n",
       "  results = connection.execute(\n"
      ]
     },
     "metadata": {},
     "output_type": "display_data"
    },
    {
     "name": "stdout",
     "output_type": "stream",
     "text": [
      "%px:   0%|          | 0/32 [00:06<?, ?tasks/s]"
     ]
    },
    {
     "data": {
      "text/plain": [
       "[stderr:9] /opt/conda/lib/python3.9/site-packages/snowflake/sqlalchemy/snowdialect.py:206: SAWarning: Dialect snowflake:snowflake will not make use of SQL compilation caching as it does not set the 'supports_statement_cache' attribute to ``True``.  This can have significant performance implications including some performance degradations in comparison to prior SQLAlchemy versions.  Dialect maintainers should seek to set this attribute to True after appropriate development and testing for SQLAlchemy 1.4 caching support.   Alternatively, this attribute may be set to False which will disable this warning. (Background on this error at: https://sqlalche.me/e/14/cprf)\n",
       "  results = connection.execute(\n",
       "/opt/conda/lib/python3.9/site-packages/snowflake/sqlalchemy/snowdialect.py:206: SAWarning: Dialect snowflake:snowflake will not make use of SQL compilation caching as it does not set the 'supports_statement_cache' attribute to ``True``.  This can have significant performance implications including some performance degradations in comparison to prior SQLAlchemy versions.  Dialect maintainers should seek to set this attribute to True after appropriate development and testing for SQLAlchemy 1.4 caching support.   Alternatively, this attribute may be set to False which will disable this warning. (Background on this error at: https://sqlalche.me/e/14/cprf)\n",
       "  results = connection.execute(\n"
      ]
     },
     "metadata": {},
     "output_type": "display_data"
    },
    {
     "data": {
      "text/plain": [
       "[stderr:18] /opt/conda/lib/python3.9/site-packages/snowflake/sqlalchemy/snowdialect.py:206: SAWarning: Dialect snowflake:snowflake will not make use of SQL compilation caching as it does not set the 'supports_statement_cache' attribute to ``True``.  This can have significant performance implications including some performance degradations in comparison to prior SQLAlchemy versions.  Dialect maintainers should seek to set this attribute to True after appropriate development and testing for SQLAlchemy 1.4 caching support.   Alternatively, this attribute may be set to False which will disable this warning. (Background on this error at: https://sqlalche.me/e/14/cprf)\n",
       "  results = connection.execute(\n"
      ]
     },
     "metadata": {},
     "output_type": "display_data"
    },
    {
     "data": {
      "text/plain": [
       "[stderr:19] /opt/conda/lib/python3.9/site-packages/snowflake/sqlalchemy/snowdialect.py:206: SAWarning: Dialect snowflake:snowflake will not make use of SQL compilation caching as it does not set the 'supports_statement_cache' attribute to ``True``.  This can have significant performance implications including some performance degradations in comparison to prior SQLAlchemy versions.  Dialect maintainers should seek to set this attribute to True after appropriate development and testing for SQLAlchemy 1.4 caching support.   Alternatively, this attribute may be set to False which will disable this warning. (Background on this error at: https://sqlalche.me/e/14/cprf)\n",
       "  results = connection.execute(\n"
      ]
     },
     "metadata": {},
     "output_type": "display_data"
    },
    {
     "data": {
      "text/plain": [
       "[stderr:12] /opt/conda/lib/python3.9/site-packages/snowflake/sqlalchemy/snowdialect.py:206: SAWarning: Dialect snowflake:snowflake will not make use of SQL compilation caching as it does not set the 'supports_statement_cache' attribute to ``True``.  This can have significant performance implications including some performance degradations in comparison to prior SQLAlchemy versions.  Dialect maintainers should seek to set this attribute to True after appropriate development and testing for SQLAlchemy 1.4 caching support.   Alternatively, this attribute may be set to False which will disable this warning. (Background on this error at: https://sqlalche.me/e/14/cprf)\n",
       "  results = connection.execute(\n"
      ]
     },
     "metadata": {},
     "output_type": "display_data"
    },
    {
     "data": {
      "text/plain": [
       "[stderr:7] /opt/conda/lib/python3.9/site-packages/snowflake/sqlalchemy/snowdialect.py:206: SAWarning: Dialect snowflake:snowflake will not make use of SQL compilation caching as it does not set the 'supports_statement_cache' attribute to ``True``.  This can have significant performance implications including some performance degradations in comparison to prior SQLAlchemy versions.  Dialect maintainers should seek to set this attribute to True after appropriate development and testing for SQLAlchemy 1.4 caching support.   Alternatively, this attribute may be set to False which will disable this warning. (Background on this error at: https://sqlalche.me/e/14/cprf)\n",
       "  results = connection.execute(\n"
      ]
     },
     "metadata": {},
     "output_type": "display_data"
    },
    {
     "data": {
      "text/plain": [
       "[stderr:3] /opt/conda/lib/python3.9/site-packages/snowflake/sqlalchemy/snowdialect.py:206: SAWarning: Dialect snowflake:snowflake will not make use of SQL compilation caching as it does not set the 'supports_statement_cache' attribute to ``True``.  This can have significant performance implications including some performance degradations in comparison to prior SQLAlchemy versions.  Dialect maintainers should seek to set this attribute to True after appropriate development and testing for SQLAlchemy 1.4 caching support.   Alternatively, this attribute may be set to False which will disable this warning. (Background on this error at: https://sqlalche.me/e/14/cprf)\n",
       "  results = connection.execute(\n",
       "/opt/conda/lib/python3.9/site-packages/snowflake/sqlalchemy/snowdialect.py:206: SAWarning: Dialect snowflake:snowflake will not make use of SQL compilation caching as it does not set the 'supports_statement_cache' attribute to ``True``.  This can have significant performance implications including some performance degradations in comparison to prior SQLAlchemy versions.  Dialect maintainers should seek to set this attribute to True after appropriate development and testing for SQLAlchemy 1.4 caching support.   Alternatively, this attribute may be set to False which will disable this warning. (Background on this error at: https://sqlalche.me/e/14/cprf)\n",
       "  results = connection.execute(\n"
      ]
     },
     "metadata": {},
     "output_type": "display_data"
    },
    {
     "data": {
      "text/plain": [
       "[stderr:14] /opt/conda/lib/python3.9/site-packages/snowflake/sqlalchemy/snowdialect.py:206: SAWarning: Dialect snowflake:snowflake will not make use of SQL compilation caching as it does not set the 'supports_statement_cache' attribute to ``True``.  This can have significant performance implications including some performance degradations in comparison to prior SQLAlchemy versions.  Dialect maintainers should seek to set this attribute to True after appropriate development and testing for SQLAlchemy 1.4 caching support.   Alternatively, this attribute may be set to False which will disable this warning. (Background on this error at: https://sqlalche.me/e/14/cprf)\n",
       "  results = connection.execute(\n",
       "/opt/conda/lib/python3.9/site-packages/snowflake/sqlalchemy/snowdialect.py:206: SAWarning: Dialect snowflake:snowflake will not make use of SQL compilation caching as it does not set the 'supports_statement_cache' attribute to ``True``.  This can have significant performance implications including some performance degradations in comparison to prior SQLAlchemy versions.  Dialect maintainers should seek to set this attribute to True after appropriate development and testing for SQLAlchemy 1.4 caching support.   Alternatively, this attribute may be set to False which will disable this warning. (Background on this error at: https://sqlalche.me/e/14/cprf)\n",
       "  results = connection.execute(\n"
      ]
     },
     "metadata": {},
     "output_type": "display_data"
    },
    {
     "data": {
      "text/plain": [
       "[stderr:16] /opt/conda/lib/python3.9/site-packages/snowflake/sqlalchemy/snowdialect.py:206: SAWarning: Dialect snowflake:snowflake will not make use of SQL compilation caching as it does not set the 'supports_statement_cache' attribute to ``True``.  This can have significant performance implications including some performance degradations in comparison to prior SQLAlchemy versions.  Dialect maintainers should seek to set this attribute to True after appropriate development and testing for SQLAlchemy 1.4 caching support.   Alternatively, this attribute may be set to False which will disable this warning. (Background on this error at: https://sqlalche.me/e/14/cprf)\n",
       "  results = connection.execute(\n"
      ]
     },
     "metadata": {},
     "output_type": "display_data"
    },
    {
     "data": {
      "text/plain": [
       "[stderr:2] /opt/conda/lib/python3.9/site-packages/snowflake/sqlalchemy/snowdialect.py:206: SAWarning: Dialect snowflake:snowflake will not make use of SQL compilation caching as it does not set the 'supports_statement_cache' attribute to ``True``.  This can have significant performance implications including some performance degradations in comparison to prior SQLAlchemy versions.  Dialect maintainers should seek to set this attribute to True after appropriate development and testing for SQLAlchemy 1.4 caching support.   Alternatively, this attribute may be set to False which will disable this warning. (Background on this error at: https://sqlalche.me/e/14/cprf)\n",
       "  results = connection.execute(\n",
       "/opt/conda/lib/python3.9/site-packages/snowflake/sqlalchemy/snowdialect.py:206: SAWarning: Dialect snowflake:snowflake will not make use of SQL compilation caching as it does not set the 'supports_statement_cache' attribute to ``True``.  This can have significant performance implications including some performance degradations in comparison to prior SQLAlchemy versions.  Dialect maintainers should seek to set this attribute to True after appropriate development and testing for SQLAlchemy 1.4 caching support.   Alternatively, this attribute may be set to False which will disable this warning. (Background on this error at: https://sqlalche.me/e/14/cprf)\n",
       "  results = connection.execute(\n"
      ]
     },
     "metadata": {},
     "output_type": "display_data"
    },
    {
     "name": "stdout",
     "output_type": "stream",
     "text": [
      "%px:   0%|          | 0/32 [00:06<?, ?tasks/s]"
     ]
    },
    {
     "data": {
      "text/plain": [
       "[stderr:29] /opt/conda/lib/python3.9/site-packages/snowflake/sqlalchemy/snowdialect.py:206: SAWarning: Dialect snowflake:snowflake will not make use of SQL compilation caching as it does not set the 'supports_statement_cache' attribute to ``True``.  This can have significant performance implications including some performance degradations in comparison to prior SQLAlchemy versions.  Dialect maintainers should seek to set this attribute to True after appropriate development and testing for SQLAlchemy 1.4 caching support.   Alternatively, this attribute may be set to False which will disable this warning. (Background on this error at: https://sqlalche.me/e/14/cprf)\n",
       "  results = connection.execute(\n",
       "/opt/conda/lib/python3.9/site-packages/snowflake/sqlalchemy/snowdialect.py:206: SAWarning: Dialect snowflake:snowflake will not make use of SQL compilation caching as it does not set the 'supports_statement_cache' attribute to ``True``.  This can have significant performance implications including some performance degradations in comparison to prior SQLAlchemy versions.  Dialect maintainers should seek to set this attribute to True after appropriate development and testing for SQLAlchemy 1.4 caching support.   Alternatively, this attribute may be set to False which will disable this warning. (Background on this error at: https://sqlalche.me/e/14/cprf)\n",
       "  results = connection.execute(\n"
      ]
     },
     "metadata": {},
     "output_type": "display_data"
    },
    {
     "data": {
      "text/plain": [
       "[stderr:21] /opt/conda/lib/python3.9/site-packages/snowflake/sqlalchemy/snowdialect.py:206: SAWarning: Dialect snowflake:snowflake will not make use of SQL compilation caching as it does not set the 'supports_statement_cache' attribute to ``True``.  This can have significant performance implications including some performance degradations in comparison to prior SQLAlchemy versions.  Dialect maintainers should seek to set this attribute to True after appropriate development and testing for SQLAlchemy 1.4 caching support.   Alternatively, this attribute may be set to False which will disable this warning. (Background on this error at: https://sqlalche.me/e/14/cprf)\n",
       "  results = connection.execute(\n"
      ]
     },
     "metadata": {},
     "output_type": "display_data"
    },
    {
     "data": {
      "text/plain": [
       "[stderr:31] /opt/conda/lib/python3.9/site-packages/snowflake/sqlalchemy/snowdialect.py:206: SAWarning: Dialect snowflake:snowflake will not make use of SQL compilation caching as it does not set the 'supports_statement_cache' attribute to ``True``.  This can have significant performance implications including some performance degradations in comparison to prior SQLAlchemy versions.  Dialect maintainers should seek to set this attribute to True after appropriate development and testing for SQLAlchemy 1.4 caching support.   Alternatively, this attribute may be set to False which will disable this warning. (Background on this error at: https://sqlalche.me/e/14/cprf)\n",
       "  results = connection.execute(\n",
       "/opt/conda/lib/python3.9/site-packages/snowflake/sqlalchemy/snowdialect.py:206: SAWarning: Dialect snowflake:snowflake will not make use of SQL compilation caching as it does not set the 'supports_statement_cache' attribute to ``True``.  This can have significant performance implications including some performance degradations in comparison to prior SQLAlchemy versions.  Dialect maintainers should seek to set this attribute to True after appropriate development and testing for SQLAlchemy 1.4 caching support.   Alternatively, this attribute may be set to False which will disable this warning. (Background on this error at: https://sqlalche.me/e/14/cprf)\n",
       "  results = connection.execute(\n"
      ]
     },
     "metadata": {},
     "output_type": "display_data"
    },
    {
     "data": {
      "text/plain": [
       "[stderr:5] /opt/conda/lib/python3.9/site-packages/snowflake/sqlalchemy/snowdialect.py:206: SAWarning: Dialect snowflake:snowflake will not make use of SQL compilation caching as it does not set the 'supports_statement_cache' attribute to ``True``.  This can have significant performance implications including some performance degradations in comparison to prior SQLAlchemy versions.  Dialect maintainers should seek to set this attribute to True after appropriate development and testing for SQLAlchemy 1.4 caching support.   Alternatively, this attribute may be set to False which will disable this warning. (Background on this error at: https://sqlalche.me/e/14/cprf)\n",
       "  results = connection.execute(\n",
       "/opt/conda/lib/python3.9/site-packages/snowflake/sqlalchemy/snowdialect.py:206: SAWarning: Dialect snowflake:snowflake will not make use of SQL compilation caching as it does not set the 'supports_statement_cache' attribute to ``True``.  This can have significant performance implications including some performance degradations in comparison to prior SQLAlchemy versions.  Dialect maintainers should seek to set this attribute to True after appropriate development and testing for SQLAlchemy 1.4 caching support.   Alternatively, this attribute may be set to False which will disable this warning. (Background on this error at: https://sqlalche.me/e/14/cprf)\n",
       "  results = connection.execute(\n"
      ]
     },
     "metadata": {},
     "output_type": "display_data"
    },
    {
     "data": {
      "text/plain": [
       "[stderr:17] /opt/conda/lib/python3.9/site-packages/snowflake/sqlalchemy/snowdialect.py:206: SAWarning: Dialect snowflake:snowflake will not make use of SQL compilation caching as it does not set the 'supports_statement_cache' attribute to ``True``.  This can have significant performance implications including some performance degradations in comparison to prior SQLAlchemy versions.  Dialect maintainers should seek to set this attribute to True after appropriate development and testing for SQLAlchemy 1.4 caching support.   Alternatively, this attribute may be set to False which will disable this warning. (Background on this error at: https://sqlalche.me/e/14/cprf)\n",
       "  results = connection.execute(\n"
      ]
     },
     "metadata": {},
     "output_type": "display_data"
    },
    {
     "data": {
      "text/plain": [
       "[stderr:24] /opt/conda/lib/python3.9/site-packages/snowflake/sqlalchemy/snowdialect.py:206: SAWarning: Dialect snowflake:snowflake will not make use of SQL compilation caching as it does not set the 'supports_statement_cache' attribute to ``True``.  This can have significant performance implications including some performance degradations in comparison to prior SQLAlchemy versions.  Dialect maintainers should seek to set this attribute to True after appropriate development and testing for SQLAlchemy 1.4 caching support.   Alternatively, this attribute may be set to False which will disable this warning. (Background on this error at: https://sqlalche.me/e/14/cprf)\n",
       "  results = connection.execute(\n",
       "/opt/conda/lib/python3.9/site-packages/snowflake/sqlalchemy/snowdialect.py:206: SAWarning: Dialect snowflake:snowflake will not make use of SQL compilation caching as it does not set the 'supports_statement_cache' attribute to ``True``.  This can have significant performance implications including some performance degradations in comparison to prior SQLAlchemy versions.  Dialect maintainers should seek to set this attribute to True after appropriate development and testing for SQLAlchemy 1.4 caching support.   Alternatively, this attribute may be set to False which will disable this warning. (Background on this error at: https://sqlalche.me/e/14/cprf)\n",
       "  results = connection.execute(\n"
      ]
     },
     "metadata": {},
     "output_type": "display_data"
    },
    {
     "data": {
      "text/plain": [
       "[stderr:8] /opt/conda/lib/python3.9/site-packages/snowflake/sqlalchemy/snowdialect.py:206: SAWarning: Dialect snowflake:snowflake will not make use of SQL compilation caching as it does not set the 'supports_statement_cache' attribute to ``True``.  This can have significant performance implications including some performance degradations in comparison to prior SQLAlchemy versions.  Dialect maintainers should seek to set this attribute to True after appropriate development and testing for SQLAlchemy 1.4 caching support.   Alternatively, this attribute may be set to False which will disable this warning. (Background on this error at: https://sqlalche.me/e/14/cprf)\n",
       "  results = connection.execute(\n",
       "/opt/conda/lib/python3.9/site-packages/snowflake/sqlalchemy/snowdialect.py:206: SAWarning: Dialect snowflake:snowflake will not make use of SQL compilation caching as it does not set the 'supports_statement_cache' attribute to ``True``.  This can have significant performance implications including some performance degradations in comparison to prior SQLAlchemy versions.  Dialect maintainers should seek to set this attribute to True after appropriate development and testing for SQLAlchemy 1.4 caching support.   Alternatively, this attribute may be set to False which will disable this warning. (Background on this error at: https://sqlalche.me/e/14/cprf)\n",
       "  results = connection.execute(\n"
      ]
     },
     "metadata": {},
     "output_type": "display_data"
    },
    {
     "data": {
      "text/plain": [
       "[stderr:4] /opt/conda/lib/python3.9/site-packages/snowflake/sqlalchemy/snowdialect.py:206: SAWarning: Dialect snowflake:snowflake will not make use of SQL compilation caching as it does not set the 'supports_statement_cache' attribute to ``True``.  This can have significant performance implications including some performance degradations in comparison to prior SQLAlchemy versions.  Dialect maintainers should seek to set this attribute to True after appropriate development and testing for SQLAlchemy 1.4 caching support.   Alternatively, this attribute may be set to False which will disable this warning. (Background on this error at: https://sqlalche.me/e/14/cprf)\n",
       "  results = connection.execute(\n"
      ]
     },
     "metadata": {},
     "output_type": "display_data"
    },
    {
     "data": {
      "text/plain": [
       "[stderr:27] /opt/conda/lib/python3.9/site-packages/snowflake/sqlalchemy/snowdialect.py:206: SAWarning: Dialect snowflake:snowflake will not make use of SQL compilation caching as it does not set the 'supports_statement_cache' attribute to ``True``.  This can have significant performance implications including some performance degradations in comparison to prior SQLAlchemy versions.  Dialect maintainers should seek to set this attribute to True after appropriate development and testing for SQLAlchemy 1.4 caching support.   Alternatively, this attribute may be set to False which will disable this warning. (Background on this error at: https://sqlalche.me/e/14/cprf)\n",
       "  results = connection.execute(\n",
       "/opt/conda/lib/python3.9/site-packages/snowflake/sqlalchemy/snowdialect.py:206: SAWarning: Dialect snowflake:snowflake will not make use of SQL compilation caching as it does not set the 'supports_statement_cache' attribute to ``True``.  This can have significant performance implications including some performance degradations in comparison to prior SQLAlchemy versions.  Dialect maintainers should seek to set this attribute to True after appropriate development and testing for SQLAlchemy 1.4 caching support.   Alternatively, this attribute may be set to False which will disable this warning. (Background on this error at: https://sqlalche.me/e/14/cprf)\n",
       "  results = connection.execute(\n"
      ]
     },
     "metadata": {},
     "output_type": "display_data"
    },
    {
     "data": {
      "text/plain": [
       "[stderr:15] /opt/conda/lib/python3.9/site-packages/snowflake/sqlalchemy/snowdialect.py:206: SAWarning: Dialect snowflake:snowflake will not make use of SQL compilation caching as it does not set the 'supports_statement_cache' attribute to ``True``.  This can have significant performance implications including some performance degradations in comparison to prior SQLAlchemy versions.  Dialect maintainers should seek to set this attribute to True after appropriate development and testing for SQLAlchemy 1.4 caching support.   Alternatively, this attribute may be set to False which will disable this warning. (Background on this error at: https://sqlalche.me/e/14/cprf)\n",
       "  results = connection.execute(\n"
      ]
     },
     "metadata": {},
     "output_type": "display_data"
    },
    {
     "data": {
      "text/plain": [
       "[stderr:26] /opt/conda/lib/python3.9/site-packages/snowflake/sqlalchemy/snowdialect.py:206: SAWarning: Dialect snowflake:snowflake will not make use of SQL compilation caching as it does not set the 'supports_statement_cache' attribute to ``True``.  This can have significant performance implications including some performance degradations in comparison to prior SQLAlchemy versions.  Dialect maintainers should seek to set this attribute to True after appropriate development and testing for SQLAlchemy 1.4 caching support.   Alternatively, this attribute may be set to False which will disable this warning. (Background on this error at: https://sqlalche.me/e/14/cprf)\n",
       "  results = connection.execute(\n",
       "/opt/conda/lib/python3.9/site-packages/snowflake/sqlalchemy/snowdialect.py:206: SAWarning: Dialect snowflake:snowflake will not make use of SQL compilation caching as it does not set the 'supports_statement_cache' attribute to ``True``.  This can have significant performance implications including some performance degradations in comparison to prior SQLAlchemy versions.  Dialect maintainers should seek to set this attribute to True after appropriate development and testing for SQLAlchemy 1.4 caching support.   Alternatively, this attribute may be set to False which will disable this warning. (Background on this error at: https://sqlalche.me/e/14/cprf)\n",
       "  results = connection.execute(\n"
      ]
     },
     "metadata": {},
     "output_type": "display_data"
    },
    {
     "name": "stdout",
     "output_type": "stream",
     "text": [
      "%px:   0%|          | 0/32 [00:06<?, ?tasks/s]"
     ]
    },
    {
     "data": {
      "text/plain": [
       "[stderr:28] /opt/conda/lib/python3.9/site-packages/snowflake/sqlalchemy/snowdialect.py:206: SAWarning: Dialect snowflake:snowflake will not make use of SQL compilation caching as it does not set the 'supports_statement_cache' attribute to ``True``.  This can have significant performance implications including some performance degradations in comparison to prior SQLAlchemy versions.  Dialect maintainers should seek to set this attribute to True after appropriate development and testing for SQLAlchemy 1.4 caching support.   Alternatively, this attribute may be set to False which will disable this warning. (Background on this error at: https://sqlalche.me/e/14/cprf)\n",
       "  results = connection.execute(\n",
       "/opt/conda/lib/python3.9/site-packages/snowflake/sqlalchemy/snowdialect.py:206: SAWarning: Dialect snowflake:snowflake will not make use of SQL compilation caching as it does not set the 'supports_statement_cache' attribute to ``True``.  This can have significant performance implications including some performance degradations in comparison to prior SQLAlchemy versions.  Dialect maintainers should seek to set this attribute to True after appropriate development and testing for SQLAlchemy 1.4 caching support.   Alternatively, this attribute may be set to False which will disable this warning. (Background on this error at: https://sqlalche.me/e/14/cprf)\n",
       "  results = connection.execute(\n"
      ]
     },
     "metadata": {},
     "output_type": "display_data"
    },
    {
     "name": "stdout",
     "output_type": "stream",
     "text": [
      "%px: 100%|██████████| 32/32 [00:29<00:00,  1.07tasks/s]\n"
     ]
    }
   ],
   "source": [
    "%%px\n",
    "@bodo.jit(cache=True)\n",
    "def write_to_sf(df,tablename):\n",
    "    df.to_sql(tablename,f\"snowflake://{username}:{password}@{account}/{database}/public?role={role}&warehouse={warehouse}\",if_exists=\"replace\",index=False)\n",
    "write_to_sf(trips_testing_total,\"trips_testing_total\")\n",
    "write_to_sf(trips_testing_total,\"trips_testing\")"
   ]
  }
 ],
 "metadata": {
  "kernelspec": {
   "display_name": "Python 3 (ipykernel)",
   "language": "python",
   "name": "python3"
  },
  "language_info": {
   "codemirror_mode": {
    "name": "ipython",
    "version": 3
   },
   "file_extension": ".py",
   "mimetype": "text/x-python",
   "name": "python",
   "nbconvert_exporter": "python",
   "pygments_lexer": "ipython3",
   "version": "3.9.5"
  }
 },
 "nbformat": 4,
 "nbformat_minor": 5
}
